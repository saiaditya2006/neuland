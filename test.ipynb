{
 "cells": [
  {
   "cell_type": "code",
   "execution_count": 1,
   "id": "0f4df0a0",
   "metadata": {},
   "outputs": [
    {
     "name": "stdout",
     "output_type": "stream",
     "text": [
      "                                                HOLDER  \\\n",
      "0                             HEXCEL CHEMICAL PRODUCTS   \n",
      "1                                     ROHM AND HAAS CO   \n",
      "2                                          MONSANTO CO   \n",
      "3                            NATIONAL RESEARCH COUNCIL   \n",
      "4                                     WF STRAUB AND CO   \n",
      "..                                                 ...   \n",
      "295                 EMERY PERSONAL CARE PRODUCTS GROUP   \n",
      "296                             CHAS PFIZER AND CO INC   \n",
      "297                                   ICI AMERICAS INC   \n",
      "298      LEDERLE LABORATORIES DIV AMERICAN CYANAMID CO   \n",
      "299  RHONE POULENC PHARMACEUTICALS DIV RHONE POULEN...   \n",
      "\n",
      "                              HOLDER_most_frequent  \n",
      "0                         hexcel chemical products  \n",
      "1                                 rohm and haas co  \n",
      "2                                      monsanto co  \n",
      "3                        national research council  \n",
      "4                                 wf straub and co  \n",
      "..                                             ...  \n",
      "295             emery personal care products group  \n",
      "296                         chas pfizer and co inc  \n",
      "297                               ici americas inc  \n",
      "298  lederle laboratories div american cyanamid co  \n",
      "299        rhone poulenc rorer pharmaceuticals inc  \n",
      "\n",
      "[300 rows x 2 columns]\n"
     ]
    }
   ],
   "source": [
    "import pandas as pd\n",
    "from fuzzywuzzy import fuzz\n",
    "from collections import Counter\n",
    "\n",
    "# Load the Excel file\n",
    "df = pd.read_excel(\"neudata.xlsx\")\n",
    "\n",
    "# Step 1: Clean and standardize for fuzzy matching\n",
    "df['HOLDER'] = df['HOLDER'].astype(str)\n",
    "df['HOLDER_clean'] = df['HOLDER'].str.lower().str.strip()\n",
    "df['HOLDER_standardized'] = df['HOLDER_clean']\n",
    "\n",
    "# Initialize an empty list to hold the clusters of similar values\n",
    "clusters = []\n",
    "\n",
    "threshold = 80\n",
    "\n",
    "# Step 2: Iterate through the rows and perform fuzzy matching\n",
    "for i, val_i in enumerate(df['HOLDER_clean']):\n",
    "    matched = False\n",
    "    for cluster in clusters:\n",
    "        for val_j in cluster:\n",
    "            score = fuzz.token_sort_ratio(val_i, val_j)\n",
    "            if score >= threshold:\n",
    "                # Add val_i to the current cluster and mark as matched\n",
    "                cluster.append(val_i)\n",
    "                matched = True\n",
    "                break\n",
    "        if matched:\n",
    "            break\n",
    "    \n",
    "    if not matched:\n",
    "        # If no match was found, create a new cluster\n",
    "        clusters.append([val_i])\n",
    "\n",
    "# Step 3: Create a function to count the most frequent value in each cluster\n",
    "def replace_with_most_frequent(cluster):\n",
    "    # Count frequency of each value in the cluster\n",
    "    frequency = Counter(cluster)\n",
    "    \n",
    "    # Get the most frequent value\n",
    "    most_frequent_value = frequency.most_common(1)[0][0]\n",
    "    \n",
    "    # Replace all values in the cluster with the most frequent value\n",
    "    return most_frequent_value\n",
    "\n",
    "# Step 4: Create a new column with the most frequent value in each cluster\n",
    "df['HOLDER_most_frequent'] = df['HOLDER_clean'].apply(\n",
    "    lambda x: next(\n",
    "        (replace_with_most_frequent(cluster) for cluster in clusters if x in cluster),\n",
    "        x  # If not in any cluster, keep the original value\n",
    "    )\n",
    ")\n",
    "\n",
    "# Step 5: Verify the result\n",
    "print(df[['HOLDER', 'HOLDER_most_frequent']].head(300))"
   ]
  },
  {
   "cell_type": "code",
   "execution_count": 4,
   "id": "83ed6b58",
   "metadata": {},
   "outputs": [
    {
     "name": "stderr",
     "output_type": "stream",
     "text": [
      "/var/folders/9p/5bcmz2c91nl9_sttnd189drw0000gn/T/ipykernel_49419/2835055086.py:9: UserWarning: [W008] Evaluating Doc.similarity based on empty vectors.\n",
      "  return doc1.similarity(doc2)\n"
     ]
    },
    {
     "data": {
      "text/plain": [
       "0.0"
      ]
     },
     "execution_count": 4,
     "metadata": {},
     "output_type": "execute_result"
    }
   ],
   "source": [
    "import spacy\n",
    "\n",
    "# Load a pre-trained model\n",
    "nlp = spacy.load(\"en_core_web_md\")\n",
    "\n",
    "def get_similarity(name1, name2):\n",
    "    doc1 = nlp(name1)\n",
    "    doc2 = nlp(name2)\n",
    "    return doc1.similarity(doc2)\n",
    "\n",
    "# Example usage\n",
    "get_similarity(\"Pfizer\", \"Pfirzer\")  # Likely to return a high similarity score\n"
   ]
  },
  {
   "cell_type": "code",
   "execution_count": 7,
   "id": "f74c8c03",
   "metadata": {},
   "outputs": [
    {
     "data": {
      "text/plain": [
       "0.7289809863339275"
      ]
     },
     "execution_count": 7,
     "metadata": {},
     "output_type": "execute_result"
    }
   ],
   "source": [
    "import textdistance\n",
    "\n",
    "def compare_strings(str1, str2):\n",
    "    # Example using Jaro-Winkler distance\n",
    "    return textdistance.jaro_winkler(str1, str2)\n",
    "\n",
    "compare_strings('hexcel chemical products', 'american home products')  # Returns similarity score between 0 and 1\n"
   ]
  },
  {
   "cell_type": "code",
   "execution_count": null,
   "id": "dd01b8e4",
   "metadata": {},
   "outputs": [],
   "source": []
  }
 ],
 "metadata": {
  "kernelspec": {
   "display_name": "Python 3",
   "language": "python",
   "name": "python3"
  },
  "language_info": {
   "codemirror_mode": {
    "name": "ipython",
    "version": 3
   },
   "file_extension": ".py",
   "mimetype": "text/x-python",
   "name": "python",
   "nbconvert_exporter": "python",
   "pygments_lexer": "ipython3",
   "version": "3.10.11"
  }
 },
 "nbformat": 4,
 "nbformat_minor": 5
}
